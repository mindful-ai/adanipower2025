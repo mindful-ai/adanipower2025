{
 "cells": [
  {
   "cell_type": "markdown",
   "metadata": {},
   "source": [
    "### Unconstrained Optimization: \n"
   ]
  },
  {
   "cell_type": "markdown",
   "metadata": {},
   "source": [
    "\n",
    "No constraints, just minimizing or maximizing an objective function."
   ]
  },
  {
   "cell_type": "code",
   "execution_count": null,
   "metadata": {},
   "outputs": [],
   "source": [
    "import scipy.optimize as opt\n",
    "\n",
    "# Define the objective function\n",
    "def objective(x):\n",
    "    return (x - 3) ** 2"
   ]
  },
  {
   "cell_type": "code",
   "execution_count": null,
   "metadata": {},
   "outputs": [],
   "source": [
    "# Use minimize to find the minimum\n",
    "result = opt.minimize(objective, x0=0)  # Initial guess x0=0\n",
    "print(\"Unconstrained Optimization Result:\", result.x)"
   ]
  },
  {
   "cell_type": "markdown",
   "metadata": {},
   "source": [
    "### Constrained Optimization (Linear Constraints)"
   ]
  },
  {
   "cell_type": "markdown",
   "metadata": {},
   "source": [
    "This example minimizes a linear function subject to a constraint, \n",
    "f(x) = x1 + x2\n",
    "​with the constraint \n",
    "x1 + x2 = 10"
   ]
  },
  {
   "cell_type": "markdown",
   "metadata": {},
   "source": []
  },
  {
   "cell_type": "code",
   "execution_count": 2,
   "metadata": {},
   "outputs": [
    {
     "name": "stdout",
     "output_type": "stream",
     "text": [
      "Constrained Optimization Result: [5. 5.]\n"
     ]
    }
   ],
   "source": [
    "import scipy.optimize as opt\n",
    "\n",
    "# Define the objective function\n",
    "def objective(x):\n",
    "    return x[0] + x[1]\n",
    "\n",
    "# Define the constraint (x1 + x2 = 10)\n",
    "def constraint(x):\n",
    "    return x[0] + x[1] - 10\n",
    "\n",
    "\n"
   ]
  },
  {
   "cell_type": "code",
   "execution_count": null,
   "metadata": {},
   "outputs": [],
   "source": [
    "# Define the initial guess\n",
    "x0 = [1, 1]\n",
    "\n",
    "# Define the constraints\n",
    "con = {'type': 'eq', 'fun': constraint}\n",
    "\n"
   ]
  },
  {
   "cell_type": "code",
   "execution_count": null,
   "metadata": {},
   "outputs": [],
   "source": [
    "# Use minimize to find the minimum subject to the constraint\n",
    "result = opt.minimize(objective, x0, constraints=con)\n",
    "print(\"Constrained Optimization Result:\", result.x)"
   ]
  },
  {
   "cell_type": "markdown",
   "metadata": {},
   "source": [
    "### Non-Linear Optimization (Minimizing a non-linear function)"
   ]
  },
  {
   "cell_type": "code",
   "execution_count": null,
   "metadata": {},
   "outputs": [],
   "source": [
    "import scipy.optimize as opt\n",
    "import numpy as np\n",
    "\n",
    "# Define the non-linear objective function\n",
    "def objective(x):\n",
    "    return x[0]**2 + x[1]**2 + 10 * np.sin(x[0] * x[1])\n",
    "\n",
    "\n"
   ]
  },
  {
   "cell_type": "code",
   "execution_count": null,
   "metadata": {},
   "outputs": [],
   "source": [
    "# Define the initial guess\n",
    "x0 = [0, 0]\n",
    "\n",
    "# Use minimize to find the minimum\n",
    "result = opt.minimize(objective, x0)\n",
    "print(\"Non-Linear Optimization Result:\", result.x)\n"
   ]
  },
  {
   "cell_type": "markdown",
   "metadata": {},
   "source": [
    "### Linear Programming (Linear Constraints and Objective)"
   ]
  },
  {
   "cell_type": "markdown",
   "metadata": {},
   "source": [
    "Optimize f(x) = -x1 - 2x2\n",
    "\n",
    "Constraints:\n",
    "\n",
    "x1 + x2 <= 5\n",
    "\n",
    "x1 >= 0\n",
    "\n",
    "x2 >= 0"
   ]
  },
  {
   "cell_type": "code",
   "execution_count": 3,
   "metadata": {},
   "outputs": [],
   "source": [
    "from scipy.optimize import linprog\n",
    "\n",
    "# Coefficients of the objective function (to minimize -x1 - 2x2)\n",
    "c = [-1, -2]\n"
   ]
  },
  {
   "cell_type": "code",
   "execution_count": 4,
   "metadata": {},
   "outputs": [],
   "source": [
    "# Coefficients of the inequality constraints (Ax <= b)\n",
    "A = [[1, 1]]\n",
    "b = [5]\n"
   ]
  },
  {
   "cell_type": "code",
   "execution_count": 5,
   "metadata": {},
   "outputs": [],
   "source": [
    "# Bounds for each variable\n",
    "x0_bounds = (0, None)\n",
    "x1_bounds = (0, None)\n"
   ]
  },
  {
   "cell_type": "code",
   "execution_count": 6,
   "metadata": {},
   "outputs": [
    {
     "name": "stdout",
     "output_type": "stream",
     "text": [
      "Linear Programming Result: [0. 5.]\n"
     ]
    }
   ],
   "source": [
    "# Solve the linear programming problem\n",
    "result = linprog(c, A_ub=A, b_ub=b, bounds=[x0_bounds, x1_bounds], method='highs')\n",
    "print(\"Linear Programming Result:\", result.x)\n"
   ]
  },
  {
   "cell_type": "markdown",
   "metadata": {},
   "source": [
    "### Global Optimization (Finding the minimum of a multi-modal function)"
   ]
  },
  {
   "cell_type": "code",
   "execution_count": 8,
   "metadata": {},
   "outputs": [],
   "source": [
    "import scipy.optimize as opt\n",
    "import numpy as np\n",
    "\n",
    "# Define the multi-modal objective function\n",
    "def objective(x):\n",
    "    return np.sin(x) + np.cos(3 * x)"
   ]
  },
  {
   "cell_type": "code",
   "execution_count": 9,
   "metadata": {},
   "outputs": [
    {
     "name": "stdout",
     "output_type": "stream",
     "text": [
      "Global Optimization Result: [-1.0979922]\n"
     ]
    }
   ],
   "source": [
    "# Perform global optimization using differential evolution\n",
    "result = opt.differential_evolution(objective, bounds=[(-5, 5)])\n",
    "print(\"Global Optimization Result:\", result.x)"
   ]
  },
  {
   "cell_type": "code",
   "execution_count": null,
   "metadata": {},
   "outputs": [],
   "source": []
  }
 ],
 "metadata": {
  "kernelspec": {
   "display_name": "base",
   "language": "python",
   "name": "python3"
  },
  "language_info": {
   "codemirror_mode": {
    "name": "ipython",
    "version": 3
   },
   "file_extension": ".py",
   "mimetype": "text/x-python",
   "name": "python",
   "nbconvert_exporter": "python",
   "pygments_lexer": "ipython3",
   "version": "3.12.7"
  }
 },
 "nbformat": 4,
 "nbformat_minor": 2
}
